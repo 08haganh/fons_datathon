{
 "cells": [
  {
   "cell_type": "markdown",
   "id": "floppy-cathedral",
   "metadata": {},
   "source": [
    "## Notebook for calculating various molecular desciptors"
   ]
  },
  {
   "cell_type": "code",
   "execution_count": 8,
   "id": "objective-natural",
   "metadata": {},
   "outputs": [],
   "source": [
    "# Imports\n",
    "from rdkit import Chem, RDLogger\n",
    "import os\n",
    "from mordred import Calculator, descriptors\n",
    "import pandas as pd\n",
    "from more_itertools import chunked\n",
    "from tqdm.notebook import tqdm\n",
    "# Capturing RDKit errors\n",
    "from io import StringIO\n",
    "import sys\n",
    "Chem.WrapLogs()"
   ]
  },
  {
   "cell_type": "code",
   "execution_count": null,
   "id": "afraid-qatar",
   "metadata": {},
   "outputs": [],
   "source": [
    "%load_ext autoreload\n",
    "%autoreload 2"
   ]
  },
  {
   "cell_type": "code",
   "execution_count": null,
   "id": "fuzzy-index",
   "metadata": {},
   "outputs": [],
   "source": [
    "RDLogger.DisableLog('rdApp.*')"
   ]
  },
  {
   "cell_type": "code",
   "execution_count": 3,
   "id": "every-routine",
   "metadata": {},
   "outputs": [],
   "source": [
    "def mol2_to_mol(file=None, sanitize=True):\n",
    "    mols=[]\n",
    "    with open(file, 'r') as f:\n",
    "        line =f.readline()\n",
    "        while not f.tell() == os.fstat(f.fileno()).st_size:\n",
    "            if line.startswith(\"@<TRIPOS>MOLECULE\"):\n",
    "                mol = []\n",
    "                mol.append(line)\n",
    "                line = f.readline()\n",
    "                while not line.startswith(\"@<TRIPOS>MOLECULE\"):\n",
    "                    mol.append(line)\n",
    "                    line = f.readline()\n",
    "                    if f.tell() == os.fstat(f.fileno()).st_size:\n",
    "                        mol.append(line)\n",
    "                        break\n",
    "                mol[-1] = mol[-1].rstrip() # removes blank line at file end\n",
    "                block = \",\".join(mol).replace(',','')\n",
    "                m=Chem.MolFromMol2Block(block, sanitize=sanitize)\n",
    "            if m is not None:\n",
    "                mols.append(m)\n",
    "    return(mols)"
   ]
  },
  {
   "cell_type": "code",
   "execution_count": 19,
   "id": "verified-winter",
   "metadata": {
    "scrolled": true
   },
   "outputs": [],
   "source": [
    "mols = mol2_to_mol('../small_molecule_search.mol2')"
   ]
  },
  {
   "cell_type": "code",
   "execution_count": null,
   "id": "english-insurance",
   "metadata": {},
   "outputs": [],
   "source": [
    "def number_molecules(mols):\n",
    "    # Adds number to the molecule as an identifier. \n",
    "    # This will be written in the .mol2 file.\n",
    "    for i, mol in enumerate(mols):\n",
    "        mol.SetProp('_Name', str(i))\n",
    "    return mols\n",
    "\n",
    "def parse_molecules(mols):\n",
    "    # Removes molecules that generate warnings when parsing through RDKit\n",
    "    # This could lead to incorrect values depending on how the descriptor\n",
    "    # is calculated.\n",
    "    working_mols = []\n",
    "    nonworking_mols = []\n",
    "    sio = sys.stderr = StringIO()\n",
    "    for mol in mols:\n",
    "        Chem.SanitizeMol(mol)\n",
    "        res = sio.getvalue()\n",
    "        if 'WARNING' in res:\n",
    "            nonworking_mols.append(mol)\n",
    "            print(res)\n",
    "            # Reset stderr\n",
    "            sio = sys.stderr = StringIO()\n",
    "        else:\n",
    "            working_mols.append(mol)\n",
    "            sio = sys.stderr = StringIO()\n",
    "    working_mols = number_molecules(working_mols)\n",
    "    return working_mols, nonworking_mols\n",
    "\n",
    "def calculate_descriptors_pandas(mols, check_mols=False):\n",
    "    # Calculates 2D and 3D descriptors using Mordred.\n",
    "    # Returns a DataFrame containing descriptors.\n",
    "    calc = Calculator(descriptors, ignore_3D=False)\n",
    "    if check_mols:\n",
    "        mols, _ = parse_molecules(mols)\n",
    "    df = calc.pandas(working_mols, ipynb=True, quiet=False)\n",
    "    df.index.name = 'Molecule_Number'\n",
    "    df['SMILES'] = [Chem.MolToSmiles(m) for m in mols]\n",
    "    df['RDKit_Molecule'] = mols\n",
    "    return df"
   ]
  },
  {
   "cell_type": "code",
   "execution_count": 61,
   "id": "grateful-cleveland",
   "metadata": {},
   "outputs": [],
   "source": []
  },
  {
   "cell_type": "code",
   "execution_count": 63,
   "id": "sufficient-entity",
   "metadata": {},
   "outputs": [],
   "source": []
  },
  {
   "cell_type": "code",
   "execution_count": null,
   "id": "temporal-helmet",
   "metadata": {},
   "outputs": [],
   "source": [
    "df.to_pickle('Calculated_Descriptors.pkl')"
   ]
  },
  {
   "cell_type": "code",
   "execution_count": null,
   "id": "southwest-disaster",
   "metadata": {},
   "outputs": [],
   "source": []
  }
 ],
 "metadata": {
  "kernelspec": {
   "display_name": "FONS_Datathon",
   "language": "python",
   "name": "fonsdatathon"
  },
  "language_info": {
   "codemirror_mode": {
    "name": "ipython",
    "version": 3
   },
   "file_extension": ".py",
   "mimetype": "text/x-python",
   "name": "python",
   "nbconvert_exporter": "python",
   "pygments_lexer": "ipython3",
   "version": "3.7.9"
  }
 },
 "nbformat": 4,
 "nbformat_minor": 5
}
